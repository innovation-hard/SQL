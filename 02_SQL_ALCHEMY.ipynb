{
 "cells": [
  {
   "cell_type": "code",
   "execution_count": 1,
   "metadata": {},
   "outputs": [],
   "source": [
    "from sqlalchemy import create_engine, text, select"
   ]
  },
  {
   "cell_type": "code",
   "execution_count": 2,
   "metadata": {},
   "outputs": [
    {
     "data": {
      "text/plain": [
       "'c:\\\\Users\\\\jorge\\\\Documents\\\\Repo\\\\ML\\\\SQL'"
      ]
     },
     "execution_count": 2,
     "metadata": {},
     "output_type": "execute_result"
    }
   ],
   "source": [
    "# windows\n",
    "base_folder = !cd\n",
    "# linux\n",
    "#base_folder = !pwd\n",
    "\n",
    "base_folder = base_folder[0]\n",
    "base_folder"
   ]
  },
  {
   "cell_type": "code",
   "execution_count": 3,
   "metadata": {},
   "outputs": [
    {
     "name": "stdout",
     "output_type": "stream",
     "text": [
      "sqlite:///c:/Users/jorge/Documents/Repo/ML/SQL/data/sqlite3/test.db\n"
     ]
    }
   ],
   "source": [
    "# Reemplazar dobles barras con una sola barra invertida y luego cambiar a barras normales\n",
    "base_folder = base_folder.replace('\\\\\\\\', '\\\\').replace('\\\\', '/')\n",
    "\n",
    "database_path = f'sqlite:///{base_folder}/data/sqlite3/test.db'\n",
    "print(database_path)\n",
    "engine = create_engine(database_path)"
   ]
  },
  {
   "cell_type": "code",
   "execution_count": 4,
   "metadata": {},
   "outputs": [],
   "source": [
    "conn = engine.connect()"
   ]
  },
  {
   "cell_type": "markdown",
   "metadata": {},
   "source": [
    "### Sin ORM"
   ]
  },
  {
   "cell_type": "code",
   "execution_count": 6,
   "metadata": {},
   "outputs": [
    {
     "name": "stdout",
     "output_type": "stream",
     "text": [
      "(0, 'Paul', 'California', 20000.0)\n",
      "(1, 'Allen', 'Texas', 2000.0)\n",
      "(2, 'Teddy', 'Norway', 20000.0)\n",
      "(3, 'Mark', 'Rich-Mond ', 65000.0)\n"
     ]
    }
   ],
   "source": [
    "for e in conn.execute(\n",
    "    text(\n",
    "        \"SELECT id, name, address, salary from COMPANY\"\n",
    "    )\n",
    "):\n",
    "    print(e)"
   ]
  },
  {
   "cell_type": "markdown",
   "metadata": {},
   "source": [
    "---------------------\n",
    "### Creacion de tabla"
   ]
  },
  {
   "cell_type": "code",
   "execution_count": 7,
   "metadata": {},
   "outputs": [],
   "source": [
    "from sqlalchemy import (create_engine, Table, Column, Integer, \n",
    "    String, MetaData)\n",
    "    \n",
    "meta = MetaData()\n",
    "cars = Table('Cars', meta,\n",
    "     Column('Id', Integer, primary_key=True),\n",
    "     Column('Name', String),\n",
    "     Column('Price', Integer)\n",
    ")"
   ]
  },
  {
   "cell_type": "code",
   "execution_count": 8,
   "metadata": {},
   "outputs": [
    {
     "data": {
      "text/plain": [
       "Table('Cars', MetaData(), Column('Id', Integer(), table=<Cars>, primary_key=True, nullable=False), Column('Name', String(), table=<Cars>), Column('Price', Integer(), table=<Cars>), schema=None)"
      ]
     },
     "execution_count": 8,
     "metadata": {},
     "output_type": "execute_result"
    }
   ],
   "source": [
    "cars"
   ]
  },
  {
   "cell_type": "code",
   "execution_count": 9,
   "metadata": {},
   "outputs": [
    {
     "data": {
      "text/plain": [
       "[Column('Id', Integer(), table=<Cars>, primary_key=True, nullable=False),\n",
       " Column('Name', String(), table=<Cars>),\n",
       " Column('Price', Integer(), table=<Cars>)]"
      ]
     },
     "execution_count": 9,
     "metadata": {},
     "output_type": "execute_result"
    }
   ],
   "source": [
    "list(cars.c)"
   ]
  },
  {
   "cell_type": "code",
   "execution_count": 10,
   "metadata": {},
   "outputs": [
    {
     "data": {
      "text/plain": [
       "PrimaryKeyConstraint(Column('Id', Integer(), table=<Cars>, primary_key=True, nullable=False))"
      ]
     },
     "execution_count": 10,
     "metadata": {},
     "output_type": "execute_result"
    }
   ],
   "source": [
    "cars.primary_key"
   ]
  },
  {
   "cell_type": "code",
   "execution_count": 11,
   "metadata": {},
   "outputs": [],
   "source": [
    "meta.create_all(engine)"
   ]
  },
  {
   "cell_type": "markdown",
   "metadata": {},
   "source": [
    "### Inserts"
   ]
  },
  {
   "cell_type": "code",
   "execution_count": 12,
   "metadata": {},
   "outputs": [],
   "source": [
    "data = ( { \"Id\": 1, \"Name\": \"Audi\", \"Price\": 52642 },\n",
    "         { \"Id\": 2, \"Name\": \"Mercedes\", \"Price\": 57127 },\n",
    "         { \"Id\": 3, \"Name\": \"Skoda\", \"Price\": 9000 },\n",
    "         { \"Id\": 4, \"Name\": \"Volvo\", \"Price\": 29000 },\n",
    "         { \"Id\": 5, \"Name\": \"Bentley\", \"Price\": 350000 },\n",
    "         { \"Id\": 6, \"Name\": \"Citroen\", \"Price\": 21000 },\n",
    "         { \"Id\": 7, \"Name\": \"Hummer\", \"Price\": 41400 },\n",
    "         { \"Id\": 8, \"Name\": \"Volkswagen\", \"Price\": 21600 })"
   ]
  },
  {
   "cell_type": "code",
   "execution_count": 17,
   "metadata": {},
   "outputs": [
    {
     "data": {
      "text/plain": [
       "'INSERT INTO \"Cars\" (\"Id\", \"Name\", \"Price\") VALUES (:Id, :Name, :Price)'"
      ]
     },
     "execution_count": 17,
     "metadata": {},
     "output_type": "execute_result"
    }
   ],
   "source": [
    "ins = cars.insert()\n",
    "str(ins)"
   ]
  },
  {
   "cell_type": "code",
   "execution_count": 20,
   "metadata": {},
   "outputs": [],
   "source": [
    "for line in data:\n",
    "    ins = cars.insert().values(**line)\n",
    "    conn.execute(ins)"
   ]
  },
  {
   "cell_type": "code",
   "execution_count": 21,
   "metadata": {},
   "outputs": [],
   "source": [
    "conn.commit()"
   ]
  },
  {
   "cell_type": "code",
   "execution_count": 22,
   "metadata": {},
   "outputs": [
    {
     "name": "stdout",
     "output_type": "stream",
     "text": [
      "(1, 'Audi', 52642)\n",
      "(2, 'Mercedes', 57127)\n",
      "(3, 'Skoda', 9000)\n",
      "(4, 'Volvo', 29000)\n",
      "(5, 'Bentley', 350000)\n",
      "(6, 'Citroen', 21000)\n",
      "(7, 'Hummer', 41400)\n",
      "(8, 'Volkswagen', 21600)\n"
     ]
    }
   ],
   "source": [
    "for e in conn.execute(text(\"SELECT id, Name, Price from Cars\")):\n",
    "    print(e)"
   ]
  },
  {
   "cell_type": "markdown",
   "metadata": {},
   "source": [
    "### Select"
   ]
  },
  {
   "cell_type": "code",
   "execution_count": 23,
   "metadata": {},
   "outputs": [
    {
     "name": "stdout",
     "output_type": "stream",
     "text": [
      "(1, 'Audi', 52642)\n",
      "(2, 'Mercedes', 57127)\n",
      "(3, 'Skoda', 9000)\n",
      "(4, 'Volvo', 29000)\n",
      "(5, 'Bentley', 350000)\n",
      "(6, 'Citroen', 21000)\n",
      "(7, 'Hummer', 41400)\n",
      "(8, 'Volkswagen', 21600)\n"
     ]
    }
   ],
   "source": [
    "for c in conn.execute(cars.select()):\n",
    "    print(c)"
   ]
  },
  {
   "cell_type": "code",
   "execution_count": 24,
   "metadata": {},
   "outputs": [
    {
     "name": "stdout",
     "output_type": "stream",
     "text": [
      "(1, 'Audi', 52642)\n",
      "(2, 'Mercedes', 57127)\n",
      "(5, 'Bentley', 350000)\n",
      "(7, 'Hummer', 41400)\n"
     ]
    }
   ],
   "source": [
    "for c in conn.execute(cars.select().where(cars.c.Price > 30000)):\n",
    "    print(c)"
   ]
  }
 ],
 "metadata": {
  "kernelspec": {
   "display_name": "base",
   "language": "python",
   "name": "python3"
  },
  "language_info": {
   "codemirror_mode": {
    "name": "ipython",
    "version": 3
   },
   "file_extension": ".py",
   "mimetype": "text/x-python",
   "name": "python",
   "nbconvert_exporter": "python",
   "pygments_lexer": "ipython3",
   "version": "3.12.4"
  }
 },
 "nbformat": 4,
 "nbformat_minor": 4
}
