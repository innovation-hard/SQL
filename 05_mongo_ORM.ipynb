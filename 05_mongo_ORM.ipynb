{
 "cells": [
  {
   "cell_type": "code",
   "execution_count": 1,
   "metadata": {},
   "outputs": [],
   "source": [
    "from mongoengine import connect"
   ]
  },
  {
   "cell_type": "code",
   "execution_count": 2,
   "metadata": {},
   "outputs": [],
   "source": [
    "db_name = 'db_test'"
   ]
  },
  {
   "cell_type": "code",
   "execution_count": 3,
   "metadata": {},
   "outputs": [
    {
     "data": {
      "text/plain": [
       "MongoClient(host=['localhost:27017'], document_class=dict, tz_aware=False, connect=True, read_preference=Primary(), uuidrepresentation=3)"
      ]
     },
     "execution_count": 3,
     "metadata": {},
     "output_type": "execute_result"
    }
   ],
   "source": [
    "connect(db_name, host='localhost', port=27017)"
   ]
  },
  {
   "cell_type": "code",
   "execution_count": 4,
   "metadata": {},
   "outputs": [],
   "source": [
    "from mongoengine import *\n",
    "import datetime\n",
    "\n",
    "class User(Document):\n",
    "    name = StringField(max_length=200, required=True)\n",
    "    address = StringField(max_length=200, required=True)\n",
    "    age = IntField()\n"
   ]
  },
  {
   "cell_type": "code",
   "execution_count": 5,
   "metadata": {},
   "outputs": [],
   "source": [
    "u = User(name='Julian', address='Montaneses 3150')"
   ]
  },
  {
   "cell_type": "code",
   "execution_count": 7,
   "metadata": {},
   "outputs": [
    {
     "data": {
      "text/plain": [
       "<User: User object>"
      ]
     },
     "execution_count": 7,
     "metadata": {},
     "output_type": "execute_result"
    }
   ],
   "source": [
    "u.save()"
   ]
  },
  {
   "cell_type": "code",
   "execution_count": 8,
   "metadata": {},
   "outputs": [
    {
     "name": "stdout",
     "output_type": "stream",
     "text": [
      "{\"_id\": {\"$oid\": \"64d51623d0db84545e950c6e\"}, \"name\": \"John\", \"address\": \"Highway 37\", \"age\": 33}\n",
      "{\"_id\": {\"$oid\": \"64d5162ad0db84545e950c6f\"}, \"name\": \"Amy\", \"address\": \"Apple st 652\"}\n",
      "{\"_id\": {\"$oid\": \"64d5162ad0db84545e950c70\"}, \"name\": \"Hannah\", \"address\": \"Mountain 21\"}\n",
      "{\"_id\": {\"$oid\": \"64d5162ad0db84545e950c71\"}, \"name\": \"Michael\", \"address\": \"Valley 345\"}\n",
      "{\"_id\": {\"$oid\": \"64d5162ad0db84545e950c72\"}, \"name\": \"Sandy\", \"address\": \"Ocean blvd 2\"}\n",
      "{\"_id\": {\"$oid\": \"64d5162ad0db84545e950c73\"}, \"name\": \"Betty\", \"address\": \"Green Grass 1\"}\n",
      "{\"_id\": {\"$oid\": \"64d5162ad0db84545e950c74\"}, \"name\": \"Richard\", \"address\": \"Sky st 331\"}\n",
      "{\"_id\": {\"$oid\": \"64d5162ad0db84545e950c75\"}, \"name\": \"Susan\", \"address\": \"One way 98\"}\n",
      "{\"_id\": {\"$oid\": \"64d5162ad0db84545e950c76\"}, \"name\": \"Vicky\", \"address\": \"Yellow Garden 2\"}\n",
      "{\"_id\": {\"$oid\": \"64d5162ad0db84545e950c77\"}, \"name\": \"Ben\", \"address\": \"Park Lane 38\"}\n",
      "{\"_id\": {\"$oid\": \"64d5162ad0db84545e950c78\"}, \"name\": \"William\", \"address\": \"Central st 954\"}\n",
      "{\"_id\": {\"$oid\": \"64d5162ad0db84545e950c79\"}, \"name\": \"Chuck\", \"address\": \"Main Road 989\"}\n",
      "{\"_id\": {\"$oid\": \"64d5162ad0db84545e950c7a\"}, \"name\": \"Viola\", \"address\": \"Sideway 1633\"}\n",
      "{\"_id\": {\"$oid\": \"64d5162ad0db84545e950c7b\"}, \"name\": \"Viola\", \"address\": \"S\"}\n",
      "{\"_id\": {\"$oid\": \"64d516c7941684eaa2dca7ff\"}, \"name\": \"Julian\", \"address\": \"Montaneses 3150\"}\n"
     ]
    }
   ],
   "source": [
    "for u in User.objects.filter():\n",
    "    print(u.to_json())"
   ]
  },
  {
   "cell_type": "code",
   "execution_count": 9,
   "metadata": {},
   "outputs": [
    {
     "data": {
      "text/plain": [
       "15"
      ]
     },
     "execution_count": 9,
     "metadata": {},
     "output_type": "execute_result"
    }
   ],
   "source": [
    "User.objects.count()"
   ]
  }
 ],
 "metadata": {
  "kernelspec": {
   "display_name": "base",
   "language": "python",
   "name": "python3"
  },
  "language_info": {
   "codemirror_mode": {
    "name": "ipython",
    "version": 3
   },
   "file_extension": ".py",
   "mimetype": "text/x-python",
   "name": "python",
   "nbconvert_exporter": "python",
   "pygments_lexer": "ipython3",
   "version": "3.12.4"
  }
 },
 "nbformat": 4,
 "nbformat_minor": 4
}
