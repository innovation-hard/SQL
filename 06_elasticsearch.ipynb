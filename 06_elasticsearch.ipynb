{
 "cells": [
  {
   "cell_type": "markdown",
   "metadata": {},
   "source": [
    "### Instalación con docker\n",
    "\n",
    "```console\n",
    "docker pull docker.elastic.co/elasticsearch/elasticsearch:7.15.2\n",
    "\n",
    "docker run -p 127.0.0.1:9200:9200 -p 127.0.0.1:9300:9300 -e \"discovery.type=single-node\" -v /Users/julian/Documents/repos/SQL/data/elasticsearch:/usr/share/elasticsearch/data docker.elastic.co/elasticsearch/elasticsearch:7.15.2\n",
    "```\n"
   ]
  },
  {
   "cell_type": "markdown",
   "metadata": {},
   "source": [
    "Yo usé:\n",
    "```console\n",
    "docker run -d -p 9200:9200 -e \"discovery.type=single-node\" elasticsearch:7.17.25\n",
    "```\n",
    "y funcionó.\n",
    "\n",
    "Debería usar:\n",
    "```console\n",
    "docker run -d -p 9200:9200 -e \"discovery.type=single-node\" elasticsearch:7.17.25 -v /Users/jorge/Documents/Repo/ML/SQL/data/elasticsearch:/usr/share/elasticsearch/data\n",
    "```"
   ]
  },
  {
   "cell_type": "code",
   "execution_count": 1,
   "metadata": {},
   "outputs": [],
   "source": [
    "from elasticsearch_dsl import connections, Document, Document, Keyword, Integer, Index"
   ]
  },
  {
   "cell_type": "code",
   "execution_count": 2,
   "metadata": {},
   "outputs": [],
   "source": [
    "es = connections.create_connection(\n",
    "    alias=\"default\",\n",
    "    hosts=['http://127.0.0.1:9200'],\n",
    "    timeout=1000,\n",
    "    retry_on_timeout=True,\n",
    "    max_retries=10,\n",
    "    verify_certs=False\n",
    ")"
   ]
  },
  {
   "cell_type": "code",
   "execution_count": 3,
   "metadata": {},
   "outputs": [],
   "source": [
    "class User(Document):\n",
    "    name = Keyword()\n",
    "    address = Keyword()\n",
    "    age = Integer()\n",
    "    \n",
    "    class Index:\n",
    "        name = 'users'\n",
    "        settings = {\n",
    "            'number_of_shards': 1,\n",
    "            'number_of_replicas': 0\n",
    "        }"
   ]
  },
  {
   "cell_type": "code",
   "execution_count": 4,
   "metadata": {},
   "outputs": [
    {
     "name": "stderr",
     "output_type": "stream",
     "text": [
      "c:\\Users\\jorge\\anaconda3\\Lib\\site-packages\\elasticsearch\\connection\\base.py:208: ElasticsearchWarning: Elasticsearch built-in security features are not enabled. Without authentication, your cluster could be accessible to anyone. See https://www.elastic.co/guide/en/elasticsearch/reference/7.17/security-minimal-setup.html to enable security.\n",
      "  warnings.warn(message, category=ElasticsearchWarning)\n"
     ]
    }
   ],
   "source": [
    "User.init()"
   ]
  },
  {
   "cell_type": "code",
   "execution_count": 5,
   "metadata": {},
   "outputs": [],
   "source": [
    "# Creación de usuario\n",
    "user1 = User(name='Pedro Martinez', address='Alsina 1234', age=45)\n",
    "user2 = User(name='Marina Gomez', address='Libertad 4321', age=83)"
   ]
  },
  {
   "cell_type": "code",
   "execution_count": 6,
   "metadata": {},
   "outputs": [
    {
     "data": {
      "text/plain": [
       "'created'"
      ]
     },
     "execution_count": 6,
     "metadata": {},
     "output_type": "execute_result"
    }
   ],
   "source": [
    "# Guardo Usuario\n",
    "user1.save()\n",
    "user2.save()"
   ]
  },
  {
   "cell_type": "code",
   "execution_count": 7,
   "metadata": {},
   "outputs": [
    {
     "data": {
      "text/plain": [
       "2"
      ]
     },
     "execution_count": 7,
     "metadata": {},
     "output_type": "execute_result"
    }
   ],
   "source": [
    "User.search().count()"
   ]
  },
  {
   "cell_type": "code",
   "execution_count": 8,
   "metadata": {},
   "outputs": [],
   "source": [
    "users = User.search().filter().execute()"
   ]
  },
  {
   "cell_type": "code",
   "execution_count": 9,
   "metadata": {},
   "outputs": [
    {
     "data": {
      "text/plain": [
       "False"
      ]
     },
     "execution_count": 9,
     "metadata": {},
     "output_type": "execute_result"
    }
   ],
   "source": [
    "users.timed_out"
   ]
  },
  {
   "cell_type": "code",
   "execution_count": 10,
   "metadata": {},
   "outputs": [
    {
     "name": "stdout",
     "output_type": "stream",
     "text": [
      "{'name': 'Pedro Martinez', 'address': 'Alsina 1234', 'age': 45} xEt30JIB04qR-rCU9OQf\n",
      "{'name': 'Marina Gomez', 'address': 'Libertad 4321', 'age': 83} xUt30JIB04qR-rCU9OQ3\n"
     ]
    }
   ],
   "source": [
    "for u in users:\n",
    "    print(u.to_dict(), u.meta.id)"
   ]
  },
  {
   "cell_type": "code",
   "execution_count": 11,
   "metadata": {},
   "outputs": [
    {
     "data": {
      "text/plain": [
       "{'index': 'users',\n",
       " 'id': 'xUt30JIB04qR-rCU9OQ3',\n",
       " 'score': 0.0,\n",
       " 'doc_type': '_doc'}"
      ]
     },
     "execution_count": 11,
     "metadata": {},
     "output_type": "execute_result"
    }
   ],
   "source": [
    "u.meta.to_dict()"
   ]
  },
  {
   "cell_type": "code",
   "execution_count": 12,
   "metadata": {},
   "outputs": [
    {
     "data": {
      "text/plain": [
       "{'users': {'mappings': {'properties': {'address': {'type': 'keyword'},\n",
       "    'age': {'type': 'integer'},\n",
       "    'name': {'type': 'keyword'}}}}}"
      ]
     },
     "execution_count": 12,
     "metadata": {},
     "output_type": "execute_result"
    }
   ],
   "source": [
    "Index('users').get_mapping()"
   ]
  },
  {
   "cell_type": "code",
   "execution_count": 13,
   "metadata": {},
   "outputs": [],
   "source": [
    "# Si no lo tiene configurado lo infiere 'gender'\n",
    "user3 = User(name='Maria Diaz', address='Guayra 2323', age=21, gender='M')"
   ]
  },
  {
   "cell_type": "code",
   "execution_count": 14,
   "metadata": {},
   "outputs": [
    {
     "data": {
      "text/plain": [
       "'created'"
      ]
     },
     "execution_count": 14,
     "metadata": {},
     "output_type": "execute_result"
    }
   ],
   "source": [
    "user3.save()"
   ]
  },
  {
   "cell_type": "code",
   "execution_count": 15,
   "metadata": {},
   "outputs": [
    {
     "name": "stdout",
     "output_type": "stream",
     "text": [
      "{'name': 'Pedro Martinez', 'address': 'Alsina 1234', 'age': 45} xEt30JIB04qR-rCU9OQf\n",
      "{'name': 'Marina Gomez', 'address': 'Libertad 4321', 'age': 83} xUt30JIB04qR-rCU9OQ3\n"
     ]
    }
   ],
   "source": [
    "for u in users:\n",
    "    print(u.to_dict(), u.meta.id)"
   ]
  },
  {
   "cell_type": "code",
   "execution_count": 16,
   "metadata": {},
   "outputs": [
    {
     "data": {
      "text/plain": [
       "{'users': {'mappings': {'properties': {'address': {'type': 'keyword'},\n",
       "    'age': {'type': 'integer'},\n",
       "    'gender': {'type': 'text',\n",
       "     'fields': {'keyword': {'type': 'keyword', 'ignore_above': 256}}},\n",
       "    'name': {'type': 'keyword'}}}}}"
      ]
     },
     "execution_count": 16,
     "metadata": {},
     "output_type": "execute_result"
    }
   ],
   "source": [
    "Index('users').get_mapping()"
   ]
  }
 ],
 "metadata": {
  "kernelspec": {
   "display_name": "base",
   "language": "python",
   "name": "python3"
  },
  "language_info": {
   "codemirror_mode": {
    "name": "ipython",
    "version": 3
   },
   "file_extension": ".py",
   "mimetype": "text/x-python",
   "name": "python",
   "nbconvert_exporter": "python",
   "pygments_lexer": "ipython3",
   "version": "3.12.4"
  }
 },
 "nbformat": 4,
 "nbformat_minor": 4
}
