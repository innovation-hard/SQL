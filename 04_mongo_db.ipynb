{
 "cells": [
  {
   "cell_type": "markdown",
   "metadata": {},
   "source": [
    "### Instalación sin docker\n",
    "* En mac\n",
    "\n",
    "```console\n",
    "brew tap mongodb/brew\n",
    "brew install mongodb-community\n",
    "brew services start mongodb/brew/mongodb-community\n",
    "```\n",
    "\n",
    "* En ubuntu\n",
    "https://hevodata.com/blog/install-mongodb-on-ubuntu/\n",
    "\n",
    "* En windows\n",
    "https://docs.mongodb.com/manual/tutorial/install-mongodb-on-windows/"
   ]
  },
  {
   "cell_type": "markdown",
   "metadata": {},
   "source": [
    "### Instalación con docker\n",
    "\n",
    "\n",
    "```console\n",
    "docker pull mongo\n",
    "docker run -v /Users/julian/Documents/repos/SQL/data/mongo:/data/db -p 27017:27017 mongo\n",
    "```\n"
   ]
  },
  {
   "cell_type": "markdown",
   "metadata": {},
   "source": [
    "## Ejemplos de prueba Mongo dB"
   ]
  },
  {
   "cell_type": "code",
   "execution_count": 1,
   "metadata": {},
   "outputs": [],
   "source": [
    "import pymongo\n",
    "\n",
    "myclient = pymongo.MongoClient(\"mongodb://localhost:27018/\")\n",
    "\n",
    "db_name = 'db_test'\n",
    "mydb = myclient[db_name]"
   ]
  },
  {
   "cell_type": "code",
   "execution_count": 2,
   "metadata": {},
   "outputs": [],
   "source": [
    "myclient.drop_database(db_name)"
   ]
  },
  {
   "cell_type": "code",
   "execution_count": 3,
   "metadata": {},
   "outputs": [
    {
     "name": "stdout",
     "output_type": "stream",
     "text": [
      "['admin', 'config', 'local']\n"
     ]
    }
   ],
   "source": [
    "print(myclient.list_database_names())"
   ]
  },
  {
   "cell_type": "code",
   "execution_count": 4,
   "metadata": {},
   "outputs": [
    {
     "name": "stdout",
     "output_type": "stream",
     "text": [
      "[]\n"
     ]
    }
   ],
   "source": [
    "print(mydb.list_collection_names())"
   ]
  },
  {
   "cell_type": "code",
   "execution_count": 5,
   "metadata": {},
   "outputs": [],
   "source": [
    "mydict = {\n",
    "    \"name\": \"John\",\n",
    "    \"address\": \"Highway 37\",\n",
    "    \"age\": 33\n",
    "}"
   ]
  },
  {
   "cell_type": "code",
   "execution_count": 6,
   "metadata": {},
   "outputs": [
    {
     "data": {
      "text/plain": [
       "InsertOneResult(ObjectId('671e82ee9a4fb1e9960d1ded'), acknowledged=True)"
      ]
     },
     "execution_count": 6,
     "metadata": {},
     "output_type": "execute_result"
    }
   ],
   "source": [
    "# No estructurada\n",
    "mydb.user.insert_one(mydict)"
   ]
  },
  {
   "cell_type": "code",
   "execution_count": 7,
   "metadata": {},
   "outputs": [
    {
     "name": "stdout",
     "output_type": "stream",
     "text": [
      "['user']\n"
     ]
    }
   ],
   "source": [
    "print(mydb.list_collection_names())"
   ]
  },
  {
   "cell_type": "code",
   "execution_count": 8,
   "metadata": {},
   "outputs": [],
   "source": [
    "mylist = [\n",
    "  { \"name\": \"Amy\", \"address\": \"Apple st 652\"},\n",
    "  { \"name\": \"Hannah\", \"address\": \"Mountain 21\"},\n",
    "  { \"name\": \"Michael\", \"address\": \"Valley 345\"},\n",
    "  { \"name\": \"Sandy\", \"address\": \"Ocean blvd 2\"},\n",
    "  { \"name\": \"Betty\", \"address\": \"Green Grass 1\"},\n",
    "  { \"name\": \"Richard\", \"address\": \"Sky st 331\"},\n",
    "  { \"name\": \"Susan\", \"address\": \"One way 98\"},\n",
    "  { \"name\": \"Vicky\", \"address\": \"Yellow Garden 2\"},\n",
    "  { \"name\": \"Ben\", \"address\": \"Park Lane 38\"},\n",
    "  { \"name\": \"William\", \"address\": \"Central st 954\"},\n",
    "  { \"name\": \"Chuck\", \"address\": \"Main Road 989\"},\n",
    "  { \"name\": \"Viola\", \"address\": \"Sideway 1633\"},\n",
    "    { \"name\": \"Viola\", \"address\": \"S\"}\n",
    "]\n",
    "\n",
    "x = mydb.user.insert_many(mylist)"
   ]
  },
  {
   "cell_type": "code",
   "execution_count": 9,
   "metadata": {},
   "outputs": [
    {
     "data": {
      "text/plain": [
       "14"
      ]
     },
     "execution_count": 9,
     "metadata": {},
     "output_type": "execute_result"
    }
   ],
   "source": [
    "mydb.user.count_documents({})"
   ]
  },
  {
   "cell_type": "code",
   "execution_count": 10,
   "metadata": {},
   "outputs": [
    {
     "name": "stdout",
     "output_type": "stream",
     "text": [
      "{'_id': ObjectId('671e82ee9a4fb1e9960d1ded'), 'name': 'John', 'address': 'Highway 37', 'age': 33}\n",
      "{'_id': ObjectId('671e83309a4fb1e9960d1dee'), 'name': 'Amy', 'address': 'Apple st 652'}\n",
      "{'_id': ObjectId('671e83309a4fb1e9960d1def'), 'name': 'Hannah', 'address': 'Mountain 21'}\n",
      "{'_id': ObjectId('671e83309a4fb1e9960d1df0'), 'name': 'Michael', 'address': 'Valley 345'}\n",
      "{'_id': ObjectId('671e83309a4fb1e9960d1df1'), 'name': 'Sandy', 'address': 'Ocean blvd 2'}\n",
      "{'_id': ObjectId('671e83309a4fb1e9960d1df2'), 'name': 'Betty', 'address': 'Green Grass 1'}\n",
      "{'_id': ObjectId('671e83309a4fb1e9960d1df3'), 'name': 'Richard', 'address': 'Sky st 331'}\n",
      "{'_id': ObjectId('671e83309a4fb1e9960d1df4'), 'name': 'Susan', 'address': 'One way 98'}\n",
      "{'_id': ObjectId('671e83309a4fb1e9960d1df5'), 'name': 'Vicky', 'address': 'Yellow Garden 2'}\n",
      "{'_id': ObjectId('671e83309a4fb1e9960d1df6'), 'name': 'Ben', 'address': 'Park Lane 38'}\n",
      "{'_id': ObjectId('671e83309a4fb1e9960d1df7'), 'name': 'William', 'address': 'Central st 954'}\n",
      "{'_id': ObjectId('671e83309a4fb1e9960d1df8'), 'name': 'Chuck', 'address': 'Main Road 989'}\n",
      "{'_id': ObjectId('671e83309a4fb1e9960d1df9'), 'name': 'Viola', 'address': 'Sideway 1633'}\n",
      "{'_id': ObjectId('671e83309a4fb1e9960d1dfa'), 'name': 'Viola', 'address': 'S'}\n"
     ]
    }
   ],
   "source": [
    "for u in mydb.user.find():\n",
    "    print(u)"
   ]
  },
  {
   "cell_type": "code",
   "execution_count": 11,
   "metadata": {},
   "outputs": [
    {
     "name": "stdout",
     "output_type": "stream",
     "text": [
      "{'_id': ObjectId('671e83309a4fb1e9960d1dee'), 'name': 'Amy', 'address': 'Apple st 652'}\n"
     ]
    }
   ],
   "source": [
    "for u in mydb.user.find({'name': 'Amy'}):\n",
    "    print(u)"
   ]
  },
  {
   "cell_type": "code",
   "execution_count": 12,
   "metadata": {},
   "outputs": [
    {
     "name": "stdout",
     "output_type": "stream",
     "text": [
      "{'name': 'John', 'age': 33}\n",
      "{'name': 'Amy'}\n",
      "{'name': 'Hannah'}\n",
      "{'name': 'Michael'}\n",
      "{'name': 'Sandy'}\n",
      "{'name': 'Betty'}\n",
      "{'name': 'Richard'}\n",
      "{'name': 'Susan'}\n",
      "{'name': 'Vicky'}\n",
      "{'name': 'Ben'}\n",
      "{'name': 'William'}\n",
      "{'name': 'Chuck'}\n",
      "{'name': 'Viola'}\n",
      "{'name': 'Viola'}\n"
     ]
    }
   ],
   "source": [
    "for u in mydb.user.find({}, { \"_id\": False, \"address\": False}):\n",
    "    print(u)"
   ]
  },
  {
   "cell_type": "code",
   "execution_count": 13,
   "metadata": {},
   "outputs": [
    {
     "name": "stdout",
     "output_type": "stream",
     "text": [
      "{'_id': ObjectId('671e83309a4fb1e9960d1df0'), 'name': 'Michael', 'address': 'Valley 345'}\n",
      "{'_id': ObjectId('671e83309a4fb1e9960d1df3'), 'name': 'Richard', 'address': 'Sky st 331'}\n",
      "{'_id': ObjectId('671e83309a4fb1e9960d1df5'), 'name': 'Vicky', 'address': 'Yellow Garden 2'}\n",
      "{'_id': ObjectId('671e83309a4fb1e9960d1df9'), 'name': 'Viola', 'address': 'Sideway 1633'}\n",
      "{'_id': ObjectId('671e83309a4fb1e9960d1dfa'), 'name': 'Viola', 'address': 'S'}\n"
     ]
    }
   ],
   "source": [
    "myquery = { \"address\": { \"$gte\": \"S\" } }\n",
    "\n",
    "mydoc = mydb.user.find(myquery)\n",
    "\n",
    "for x in mydoc:\n",
    "  print(x)"
   ]
  }
 ],
 "metadata": {
  "kernelspec": {
   "display_name": "base",
   "language": "python",
   "name": "python3"
  },
  "language_info": {
   "codemirror_mode": {
    "name": "ipython",
    "version": 3
   },
   "file_extension": ".py",
   "mimetype": "text/x-python",
   "name": "python",
   "nbconvert_exporter": "python",
   "pygments_lexer": "ipython3",
   "version": "3.12.4"
  }
 },
 "nbformat": 4,
 "nbformat_minor": 4
}
